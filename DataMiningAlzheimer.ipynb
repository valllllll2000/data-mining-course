{
  "nbformat": 4,
  "nbformat_minor": 0,
  "metadata": {
    "colab": {
      "provenance": [],
      "include_colab_link": true
    },
    "kernelspec": {
      "name": "python3",
      "display_name": "Python 3"
    },
    "language_info": {
      "name": "python"
    }
  },
  "cells": [
    {
      "cell_type": "markdown",
      "metadata": {
        "id": "view-in-github",
        "colab_type": "text"
      },
      "source": [
        "<a href=\"https://colab.research.google.com/github/valllllll2000/data-mining-course/blob/main/DataMiningAlzheimer.ipynb\" target=\"_parent\"><img src=\"https://colab.research.google.com/assets/colab-badge.svg\" alt=\"Open In Colab\"/></a>"
      ]
    },
    {
      "cell_type": "markdown",
      "source": [
        "## Proyecto para el curso de Data Mining en CodeOp"
      ],
      "metadata": {
        "id": "SUrkZE2MilgX"
      }
    },
    {
      "cell_type": "markdown",
      "source": [],
      "metadata": {
        "id": "-BNuS7S1jOAx"
      }
    },
    {
      "cell_type": "markdown",
      "source": [],
      "metadata": {
        "id": "DHKXevRnMcRK"
      }
    },
    {
      "cell_type": "markdown",
      "source": [
        "## Programa de la presentación\n",
        "\n",
        "1. Presentarnos:\n",
        "\n",
        "  Marie Coutart,\n",
        "  Carolina Kaechele,\n",
        "  Jocelyn Castro,\n",
        "  Valeria Rogatchevskikh\n",
        "2. Problematica y objectivos del proyecto\n",
        "\n",
        "  * Predecir el Alzheimer teniendo datos clinicos del paciente como el MMSE (examen del estado mental), el CDR (Clasificación clinica de la demencia) y el volumen del cerebro.\n",
        "  * Analizar el riesgo de patir Alzheimer segun ciertas factores socioeconomicos como: la edad, el nivel de educación, el nivel sociocultural.\n",
        "  * Posibilidad de usar conclusiones para software de diagnostico\n",
        "\n",
        "3. Resumir, descripcion de los datos y de la base de datos\n",
        "Base de datos de Kaggle\n",
        "Link: https://www.kaggle.com/datasets/brsdincer/alzheimer-features\n",
        "\n",
        "10 Columnas y ~373 lineas\n",
        "\n",
        "- **Grupo** --> Clase, posibles valores: Demented, Nondemented, Converted\n",
        "- **Edad** --> Edad, de 60 a 98\n",
        "- **EDUC** --> Años de Educación, de 6 a 23\n",
        "- **SES** --> Estado Socioeconómico / 1 (Bajo) - 5 (Alto)\n",
        "- **MMSE** --> Examen del Estado Mental Mínimo de 4 (Demencia severa) a 30 (Sin demencia)\n",
        "- **CDR** --> Clasificación Clínica de Demencia de 0 (sin demencia) a 2 (con demencia)\n",
        "- **eTIV** --> Volumen Intracraneal Total Estimado de 1106 a 2024\n",
        "- **nWBV** --> Volumen Total del Cerebro Normalizado 0,64 a 0,84\n",
        "- **ASF** --> Factor de Escalamiento del Atlas 0,88 a 1,59\n",
        "\n",
        "#### 1. MMSE (Examen del Estado Mental Mínimo)\n",
        "Evalua la función cognitiva (memoria, orientación, atención y lenguaje). La puntuación total varía de 0 a 30, una puntuación inferior a 24 sugiere posible demencia, cuanto más bajo peor es el estado de demencia.\n",
        "\n",
        "####  2. CDR (Clasificación Clínica de Demencia)\n",
        "Evalue la gravedad de la demencia basada en entrevistas y evaluaciones clínicas. Evalúa las habilidades cognitivas y funcionales en diferentes dominios.  \n",
        "Varía de 0 (sin demencia) a 3 (demencia severa).\n",
        "\n",
        "####  3. eTIV (Volumen Intracraneal Total Estimado)\n",
        "Medida del volumen total dentro del cráneo, que incluye el cerebro, el líquido cefalorraquídeo y otras estructuras. Rango de 1,200 a 1,800 cm³ para adultos.  \n",
        "- **Hombres:** de 1,400 a 1,600 cm³.  \n",
        "- **Mujeres:** de 1,100 a 1,400 cm³.  \n",
        "Puede haber variaciones individuales basadas en la edad, el sexo y la demografía de la población.\n",
        "\n",
        "####  4. nWBV (Volumen Total del Cerebro Normalizado)\n",
        "Representa el volumen total del cerebro normalizado por el volumen intracraneal total (eTIV). Ayuda a evaluar la atrofia cerebral, util para el estudio de enfermedades degenerativas. Porcentaje del volumen intracraneal total. Normalmente varía del 75% al 95% del eTIV.  \n",
        "Un nWBV normal podría estar alrededor del 80% al 90%.\n",
        "Los valores más bajos pueden indicar atrofia cerebral, común en condiciones como el Alzheimer.\n",
        "\n",
        "####  5. ASF (Factor de Escalamiento del Atlas)\n",
        "Un factor utilizado para escalar datos de neuroimagen a un atlas estándar, permitiendo comparaciones entre sujetos.\n",
        "\n",
        "4. Limpieza de datos, explicar el porque y enseñar codigo\n",
        "5. Analisis exploratorio:\n",
        "  - Exploración de datos: mostrar datos con graficas, por ejemplo por edad, sexo, educacion\n",
        "  - Mostrar las graficas outliers (Joselyn las tenia muy bien hechas)\n",
        "  - Correlaciones?? kendall o otro?\n",
        "  - Llegar a conclusiones\n",
        "6. Mineria de datos:\n",
        "  - Arbol de decision\n",
        "  - Arbol de clasificacion y evaluar las metricas, validacion cruzada?\n",
        "7. Evaluación del modelo y resultados\n",
        "8. Crear presentación en Canva y añadir capturas??\n",
        "\n",
        "\n",
        "Ideas de conclusiones:\n",
        "* Educacion y posibilidad de tener Alzheimer\n",
        "* Importancia del factor socio economico: si o no?\n",
        "* Atrofia cerebral (nWBV)\n",
        "* Edad\n"
      ],
      "metadata": {
        "id": "0eAFpY9Pkd3c"
      }
    },
    {
      "cell_type": "code",
      "source": [
        "import pandas as pd\n",
        "\n",
        "url = 'https://raw.githubusercontent.com/valllllll2000/data-mining-alzheimer/refs/heads/main/alzheimer.csv'\n",
        "df = pd.read_csv(url)\n",
        "\n",
        "#organizacion de los datos:\n",
        "# Mostrar las primeras filas\n",
        "print(df.head())\n",
        "print('\\n')\n",
        "\n",
        "# Información general del dataset\n",
        "print(df.info())\n",
        "print('\\n')\n",
        "\n",
        "# Estadísticas generales\n",
        "print(df.describe())\n",
        "print('\\n')"
      ],
      "metadata": {
        "colab": {
          "base_uri": "https://localhost:8080/"
        },
        "id": "4ErabLG0VC3J",
        "outputId": "a51d035c-a10f-4951-f751-11cddf464369"
      },
      "execution_count": null,
      "outputs": [
        {
          "output_type": "stream",
          "name": "stdout",
          "text": [
            "         Group M/F  Age  EDUC  SES  MMSE  CDR  eTIV   nWBV    ASF\n",
            "0  Nondemented   M   87    14  2.0  27.0  0.0  1987  0.696  0.883\n",
            "1  Nondemented   M   88    14  2.0  30.0  0.0  2004  0.681  0.876\n",
            "2     Demented   M   75    12  NaN  23.0  0.5  1678  0.736  1.046\n",
            "3     Demented   M   76    12  NaN  28.0  0.5  1738  0.713  1.010\n",
            "4     Demented   M   80    12  NaN  22.0  0.5  1698  0.701  1.034\n",
            "\n",
            "\n",
            "<class 'pandas.core.frame.DataFrame'>\n",
            "RangeIndex: 373 entries, 0 to 372\n",
            "Data columns (total 10 columns):\n",
            " #   Column  Non-Null Count  Dtype  \n",
            "---  ------  --------------  -----  \n",
            " 0   Group   373 non-null    object \n",
            " 1   M/F     373 non-null    object \n",
            " 2   Age     373 non-null    int64  \n",
            " 3   EDUC    373 non-null    int64  \n",
            " 4   SES     354 non-null    float64\n",
            " 5   MMSE    371 non-null    float64\n",
            " 6   CDR     373 non-null    float64\n",
            " 7   eTIV    373 non-null    int64  \n",
            " 8   nWBV    373 non-null    float64\n",
            " 9   ASF     373 non-null    float64\n",
            "dtypes: float64(5), int64(3), object(2)\n",
            "memory usage: 29.3+ KB\n",
            "None\n",
            "\n",
            "\n",
            "              Age        EDUC         SES        MMSE         CDR  \\\n",
            "count  373.000000  373.000000  354.000000  371.000000  373.000000   \n",
            "mean    77.013405   14.597855    2.460452   27.342318    0.290885   \n",
            "std      7.640957    2.876339    1.134005    3.683244    0.374557   \n",
            "min     60.000000    6.000000    1.000000    4.000000    0.000000   \n",
            "25%     71.000000   12.000000    2.000000   27.000000    0.000000   \n",
            "50%     77.000000   15.000000    2.000000   29.000000    0.000000   \n",
            "75%     82.000000   16.000000    3.000000   30.000000    0.500000   \n",
            "max     98.000000   23.000000    5.000000   30.000000    2.000000   \n",
            "\n",
            "              eTIV        nWBV         ASF  \n",
            "count   373.000000  373.000000  373.000000  \n",
            "mean   1488.128686    0.729568    1.195461  \n",
            "std     176.139286    0.037135    0.138092  \n",
            "min    1106.000000    0.644000    0.876000  \n",
            "25%    1357.000000    0.700000    1.099000  \n",
            "50%    1470.000000    0.729000    1.194000  \n",
            "75%    1597.000000    0.756000    1.293000  \n",
            "max    2004.000000    0.837000    1.587000  \n",
            "\n",
            "\n"
          ]
        }
      ]
    },
    {
      "cell_type": "markdown",
      "source": [
        "Aqui podemos ver las columnas y lineas y vemos que en las columnas SES y MMSE faltan datos para algunas filas."
      ],
      "metadata": {
        "id": "C33C66racRCu"
      }
    },
    {
      "cell_type": "code",
      "source": [
        "# Limpieza de datos\n",
        "# Rellenamos con la mediana para las columnas MMSE y SES\n",
        "df['MMSE'] = df['MMSE'].fillna(df['MMSE'].median())\n",
        "df['SES'] = df['SES'].fillna(df['SES'].median())\n",
        "\n",
        "# Información general del dataset\n",
        "print(df.info())\n",
        "print('\\n')"
      ],
      "metadata": {
        "colab": {
          "base_uri": "https://localhost:8080/"
        },
        "id": "qJfJvm9ddB_Z",
        "outputId": "8eec6052-efa1-4f1f-f5db-b996dffa1e34"
      },
      "execution_count": null,
      "outputs": [
        {
          "output_type": "stream",
          "name": "stdout",
          "text": [
            "<class 'pandas.core.frame.DataFrame'>\n",
            "RangeIndex: 373 entries, 0 to 372\n",
            "Data columns (total 10 columns):\n",
            " #   Column  Non-Null Count  Dtype  \n",
            "---  ------  --------------  -----  \n",
            " 0   Group   373 non-null    object \n",
            " 1   M/F     373 non-null    object \n",
            " 2   Age     373 non-null    int64  \n",
            " 3   EDUC    373 non-null    int64  \n",
            " 4   SES     373 non-null    float64\n",
            " 5   MMSE    373 non-null    float64\n",
            " 6   CDR     373 non-null    float64\n",
            " 7   eTIV    373 non-null    int64  \n",
            " 8   nWBV    373 non-null    float64\n",
            " 9   ASF     373 non-null    float64\n",
            "dtypes: float64(5), int64(3), object(2)\n",
            "memory usage: 29.3+ KB\n",
            "None\n",
            "\n",
            "\n"
          ]
        }
      ]
    },
    {
      "cell_type": "code",
      "source": [
        "# Calucular media\n",
        "mmse_median = df.groupby('Group')['MMSE'].mean()\n",
        "display(mmse_median)\n",
        "cdr_median = df.groupby('Group')['CDR'].mean()\n",
        "display(cdr_median)\n",
        "nWBV_median = df.groupby('Group')['nWBV'].mean()\n",
        "display(nWBV_median)"
      ],
      "metadata": {
        "colab": {
          "base_uri": "https://localhost:8080/",
          "height": 595
        },
        "id": "uJHXRK_MfHW9",
        "outputId": "1f255836-1f50-4cd1-f841-bce1d3aaad0c"
      },
      "execution_count": null,
      "outputs": [
        {
          "output_type": "display_data",
          "data": {
            "text/plain": [
              "Group\n",
              "Converted      28.675676\n",
              "Demented       24.575342\n",
              "Nondemented    29.226316\n",
              "Name: MMSE, dtype: float64"
            ],
            "text/html": [
              "<div>\n",
              "<style scoped>\n",
              "    .dataframe tbody tr th:only-of-type {\n",
              "        vertical-align: middle;\n",
              "    }\n",
              "\n",
              "    .dataframe tbody tr th {\n",
              "        vertical-align: top;\n",
              "    }\n",
              "\n",
              "    .dataframe thead th {\n",
              "        text-align: right;\n",
              "    }\n",
              "</style>\n",
              "<table border=\"1\" class=\"dataframe\">\n",
              "  <thead>\n",
              "    <tr style=\"text-align: right;\">\n",
              "      <th></th>\n",
              "      <th>MMSE</th>\n",
              "    </tr>\n",
              "    <tr>\n",
              "      <th>Group</th>\n",
              "      <th></th>\n",
              "    </tr>\n",
              "  </thead>\n",
              "  <tbody>\n",
              "    <tr>\n",
              "      <th>Converted</th>\n",
              "      <td>28.675676</td>\n",
              "    </tr>\n",
              "    <tr>\n",
              "      <th>Demented</th>\n",
              "      <td>24.575342</td>\n",
              "    </tr>\n",
              "    <tr>\n",
              "      <th>Nondemented</th>\n",
              "      <td>29.226316</td>\n",
              "    </tr>\n",
              "  </tbody>\n",
              "</table>\n",
              "</div><br><label><b>dtype:</b> float64</label>"
            ]
          },
          "metadata": {}
        },
        {
          "output_type": "display_data",
          "data": {
            "text/plain": [
              "Group\n",
              "Converted      0.256757\n",
              "Demented       0.671233\n",
              "Nondemented    0.005263\n",
              "Name: CDR, dtype: float64"
            ],
            "text/html": [
              "<div>\n",
              "<style scoped>\n",
              "    .dataframe tbody tr th:only-of-type {\n",
              "        vertical-align: middle;\n",
              "    }\n",
              "\n",
              "    .dataframe tbody tr th {\n",
              "        vertical-align: top;\n",
              "    }\n",
              "\n",
              "    .dataframe thead th {\n",
              "        text-align: right;\n",
              "    }\n",
              "</style>\n",
              "<table border=\"1\" class=\"dataframe\">\n",
              "  <thead>\n",
              "    <tr style=\"text-align: right;\">\n",
              "      <th></th>\n",
              "      <th>CDR</th>\n",
              "    </tr>\n",
              "    <tr>\n",
              "      <th>Group</th>\n",
              "      <th></th>\n",
              "    </tr>\n",
              "  </thead>\n",
              "  <tbody>\n",
              "    <tr>\n",
              "      <th>Converted</th>\n",
              "      <td>0.256757</td>\n",
              "    </tr>\n",
              "    <tr>\n",
              "      <th>Demented</th>\n",
              "      <td>0.671233</td>\n",
              "    </tr>\n",
              "    <tr>\n",
              "      <th>Nondemented</th>\n",
              "      <td>0.005263</td>\n",
              "    </tr>\n",
              "  </tbody>\n",
              "</table>\n",
              "</div><br><label><b>dtype:</b> float64</label>"
            ]
          },
          "metadata": {}
        },
        {
          "output_type": "display_data",
          "data": {
            "text/plain": [
              "Group\n",
              "Converted      0.723730\n",
              "Demented       0.716301\n",
              "Nondemented    0.740900\n",
              "Name: nWBV, dtype: float64"
            ],
            "text/html": [
              "<div>\n",
              "<style scoped>\n",
              "    .dataframe tbody tr th:only-of-type {\n",
              "        vertical-align: middle;\n",
              "    }\n",
              "\n",
              "    .dataframe tbody tr th {\n",
              "        vertical-align: top;\n",
              "    }\n",
              "\n",
              "    .dataframe thead th {\n",
              "        text-align: right;\n",
              "    }\n",
              "</style>\n",
              "<table border=\"1\" class=\"dataframe\">\n",
              "  <thead>\n",
              "    <tr style=\"text-align: right;\">\n",
              "      <th></th>\n",
              "      <th>nWBV</th>\n",
              "    </tr>\n",
              "    <tr>\n",
              "      <th>Group</th>\n",
              "      <th></th>\n",
              "    </tr>\n",
              "  </thead>\n",
              "  <tbody>\n",
              "    <tr>\n",
              "      <th>Converted</th>\n",
              "      <td>0.723730</td>\n",
              "    </tr>\n",
              "    <tr>\n",
              "      <th>Demented</th>\n",
              "      <td>0.716301</td>\n",
              "    </tr>\n",
              "    <tr>\n",
              "      <th>Nondemented</th>\n",
              "      <td>0.740900</td>\n",
              "    </tr>\n",
              "  </tbody>\n",
              "</table>\n",
              "</div><br><label><b>dtype:</b> float64</label>"
            ]
          },
          "metadata": {}
        }
      ]
    },
    {
      "cell_type": "markdown",
      "source": [
        "Conclusiones: los datos no permiten determinar con seguridad si la clase Converted se refiere a personas que han pasado de sanos a dementes o al revés y por eso para nuestro analisis decidimos borrar (limpiar) estos datos"
      ],
      "metadata": {
        "id": "Z1SM7G-6hq5P"
      }
    },
    {
      "cell_type": "code",
      "source": [
        "# Limpiamos las filas que contienen Converted\n",
        "df = df[df['Group'] != 'Converted']\n",
        "print(df.info())\n",
        "\n",
        "print('\\n')"
      ],
      "metadata": {
        "colab": {
          "base_uri": "https://localhost:8080/"
        },
        "id": "kXjgwhheiAFL",
        "outputId": "b3a73e81-caac-43b3-ce8d-5ec9c7fc2823"
      },
      "execution_count": null,
      "outputs": [
        {
          "output_type": "stream",
          "name": "stdout",
          "text": [
            "<class 'pandas.core.frame.DataFrame'>\n",
            "Index: 336 entries, 0 to 372\n",
            "Data columns (total 10 columns):\n",
            " #   Column  Non-Null Count  Dtype  \n",
            "---  ------  --------------  -----  \n",
            " 0   Group   336 non-null    object \n",
            " 1   M/F     336 non-null    object \n",
            " 2   Age     336 non-null    int64  \n",
            " 3   EDUC    336 non-null    int64  \n",
            " 4   SES     336 non-null    float64\n",
            " 5   MMSE    336 non-null    float64\n",
            " 6   CDR     336 non-null    float64\n",
            " 7   eTIV    336 non-null    int64  \n",
            " 8   nWBV    336 non-null    float64\n",
            " 9   ASF     336 non-null    float64\n",
            "dtypes: float64(5), int64(3), object(2)\n",
            "memory usage: 28.9+ KB\n",
            "None\n",
            "\n",
            "\n"
          ]
        }
      ]
    },
    {
      "cell_type": "code",
      "source": [
        "import matplotlib.pyplot as plt\n",
        "# Exploracion, graficos...\n",
        "# Calculo medianas\n",
        "print('Age Median: ', df['Age'].median())\n",
        "print('EDUC Median: ', df['EDUC'].median())\n",
        "print('SES Median: ', df['SES'].median())\n",
        "print('MMSE Median: ', df['MMSE'].median())\n",
        "print('CDR Median: ', df['CDR'].median())\n",
        "print('eTIV Median: ', df['eTIV'].median())\n",
        "print('nWBV Median: ', df['nWBV'].median())\n",
        "print('ASF Median: ', df['ASF'].median())\n",
        "print(\"\\n\")\n",
        "\n",
        "print(df.head)\n",
        "\n",
        "# Grafico por edad\n",
        "age_bins = [60, 70, 80, 90, 100]\n",
        "age_labels = ['60-70', '70-80', '80-90', '90-100']\n",
        "\n",
        "# Nueva columna con groupos de edad\n",
        "df.loc[:, 'Age_Group'] = pd.cut(df['Age'], bins=age_bins, labels=age_labels)\n",
        "\n",
        "# Contar totales por cada groupo de edad\n",
        "age_group_counts = df['Age_Group'].value_counts()\n",
        "\n",
        "# Crear grafico\n",
        "plt.figure(figsize=(4, 4))\n",
        "plt.pie(age_group_counts, labels=age_group_counts.index, autopct='%1.1f%%', startangle=45)\n",
        "plt.title('Distribución por grupos de edad')\n",
        "plt.axis('equal')\n",
        "plt.show()\n",
        "\n",
        "print(\"\\n\")\n",
        "#Contar ocorrencias por genero\n",
        "gender_group_count = df['M/F'].value_counts()\n",
        "\n",
        "# Crear grafico\n",
        "plt.figure(figsize=(4, 4))\n",
        "plt.pie(gender_group_count, labels=['Mujeres', 'Hombres'], autopct='%1.1f%%', startangle=90)\n",
        "plt.title('Distribucion por genero')\n",
        "plt.axis('equal')\n",
        "plt.show()\n",
        "\n",
        "# Outliers"
      ],
      "metadata": {
        "id": "c1kpS52Te5nj",
        "colab": {
          "base_uri": "https://localhost:8080/",
          "height": 1000
        },
        "outputId": "28daf85a-6e77-4407-bf6c-9da5fe9c768e"
      },
      "execution_count": null,
      "outputs": [
        {
          "output_type": "stream",
          "name": "stdout",
          "text": [
            "Age Median:  76.0\n",
            "EDUC Median:  14.0\n",
            "SES Median:  2.0\n",
            "MMSE Median:  29.0\n",
            "CDR Median:  0.0\n",
            "eTIV Median:  1475.0\n",
            "nWBV Median:  0.731\n",
            "ASF Median:  1.19\n",
            "\n",
            "\n",
            "<bound method NDFrame.head of            Group M/F  Age  EDUC  SES  MMSE  CDR  eTIV   nWBV    ASF\n",
            "0    Nondemented   M   87    14  2.0  27.0  0.0  1987  0.696  0.883\n",
            "1    Nondemented   M   88    14  2.0  30.0  0.0  2004  0.681  0.876\n",
            "2       Demented   M   75    12  2.0  23.0  0.5  1678  0.736  1.046\n",
            "3       Demented   M   76    12  2.0  28.0  0.5  1738  0.713  1.010\n",
            "4       Demented   M   80    12  2.0  22.0  0.5  1698  0.701  1.034\n",
            "..           ...  ..  ...   ...  ...   ...  ...   ...    ...    ...\n",
            "368     Demented   M   82    16  1.0  28.0  0.5  1693  0.694  1.037\n",
            "369     Demented   M   86    16  1.0  26.0  0.5  1688  0.675  1.040\n",
            "370  Nondemented   F   61    13  2.0  30.0  0.0  1319  0.801  1.331\n",
            "371  Nondemented   F   63    13  2.0  30.0  0.0  1327  0.796  1.323\n",
            "372  Nondemented   F   65    13  2.0  30.0  0.0  1333  0.801  1.317\n",
            "\n",
            "[336 rows x 10 columns]>\n"
          ]
        },
        {
          "output_type": "display_data",
          "data": {
            "text/plain": [
              "<Figure size 400x400 with 1 Axes>"
            ],
            "image/png": "[encoded data removed]"
          },
          "metadata": {}
        },
        {
          "output_type": "stream",
          "name": "stdout",
          "text": [
            "\n",
            "\n"
          ]
        },
        {
          "output_type": "display_data",
          "data": {
            "text/plain": [
              "<Figure size 400x400 with 1 Axes>"
            ],
            "image/png": "[encoded data removed]"
          },
          "metadata": {}
        }
      ]
    },
    {
      "cell_type": "code",
      "source": [
        "# Calcular estadísticas\n",
        "media = df_numerico.mean()\n",
        "mediana = df_numerico.median()\n",
        "moda = df_numerico.mode().iloc[0]"
      ],
      "metadata": {
        "colab": {
          "base_uri": "https://localhost:8080/",
          "height": 193
        },
        "id": "zrW_t54GpEZ-",
        "outputId": "e4a251ad-f579-4c83-ef39-7ce1c255a6dc"
      },
      "execution_count": null,
      "outputs": [
        {
          "output_type": "error",
          "ename": "NameError",
          "evalue": "name 'df_numerico' is not defined",
          "traceback": [
            "\u001b[0;31m---------------------------------------------------------------------------\u001b[0m",
            "\u001b[0;31mNameError\u001b[0m                                 Traceback (most recent call last)",
            "\u001b[0;32m<ipython-input-13-cd8bdbcf5325>\u001b[0m in \u001b[0;36m<cell line: 0>\u001b[0;34m()\u001b[0m\n\u001b[1;32m      1\u001b[0m \u001b[0;31m# Calcular estadísticas\u001b[0m\u001b[0;34m\u001b[0m\u001b[0;34m\u001b[0m\u001b[0m\n\u001b[0;32m----> 2\u001b[0;31m \u001b[0mmedia\u001b[0m \u001b[0;34m=\u001b[0m \u001b[0mdf_numerico\u001b[0m\u001b[0;34m.\u001b[0m\u001b[0mmean\u001b[0m\u001b[0;34m(\u001b[0m\u001b[0;34m)\u001b[0m\u001b[0;34m\u001b[0m\u001b[0;34m\u001b[0m\u001b[0m\n\u001b[0m\u001b[1;32m      3\u001b[0m \u001b[0mmediana\u001b[0m \u001b[0;34m=\u001b[0m \u001b[0mdf_numerico\u001b[0m\u001b[0;34m.\u001b[0m\u001b[0mmedian\u001b[0m\u001b[0;34m(\u001b[0m\u001b[0;34m)\u001b[0m\u001b[0;34m\u001b[0m\u001b[0;34m\u001b[0m\u001b[0m\n\u001b[1;32m      4\u001b[0m \u001b[0mmoda\u001b[0m \u001b[0;34m=\u001b[0m \u001b[0mdf_numerico\u001b[0m\u001b[0;34m.\u001b[0m\u001b[0mmode\u001b[0m\u001b[0;34m(\u001b[0m\u001b[0;34m)\u001b[0m\u001b[0;34m.\u001b[0m\u001b[0miloc\u001b[0m\u001b[0;34m[\u001b[0m\u001b[0;36m0\u001b[0m\u001b[0;34m]\u001b[0m\u001b[0;34m\u001b[0m\u001b[0;34m\u001b[0m\u001b[0m\n",
            "\u001b[0;31mNameError\u001b[0m: name 'df_numerico' is not defined"
          ]
        }
      ]
    }
  ]
}